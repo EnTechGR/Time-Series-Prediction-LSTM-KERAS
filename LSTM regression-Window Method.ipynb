{
 "cells": [
  {
   "cell_type": "markdown",
   "id": "comprehensive-marble",
   "metadata": {},
   "source": [
    "# Problem"
   ]
  },
  {
   "cell_type": "markdown",
   "id": "fresh-intervention",
   "metadata": {},
   "source": [
    "Download the 'airline-passengers.csv'\n",
    "\n",
    "In the given problem our task is to predict the number of passengers.\n",
    "\n",
    "Our data consist of 144 observations between 1949 and 1960 (passengers / month)"
   ]
  },
  {
   "cell_type": "code",
   "execution_count": 1,
   "id": "analyzed-essence",
   "metadata": {},
   "outputs": [],
   "source": [
    "import pandas\n",
    "import matplotlib.pyplot as plt"
   ]
  },
  {
   "cell_type": "code",
   "execution_count": 2,
   "id": "buried-guitar",
   "metadata": {},
   "outputs": [
    {
     "data": {
      "text/html": [
       "<div>\n",
       "<style scoped>\n",
       "    .dataframe tbody tr th:only-of-type {\n",
       "        vertical-align: middle;\n",
       "    }\n",
       "\n",
       "    .dataframe tbody tr th {\n",
       "        vertical-align: top;\n",
       "    }\n",
       "\n",
       "    .dataframe thead th {\n",
       "        text-align: right;\n",
       "    }\n",
       "</style>\n",
       "<table border=\"1\" class=\"dataframe\">\n",
       "  <thead>\n",
       "    <tr style=\"text-align: right;\">\n",
       "      <th></th>\n",
       "      <th>Month</th>\n",
       "      <th>Passengers</th>\n",
       "    </tr>\n",
       "  </thead>\n",
       "  <tbody>\n",
       "    <tr>\n",
       "      <th>0</th>\n",
       "      <td>1949-01</td>\n",
       "      <td>112</td>\n",
       "    </tr>\n",
       "    <tr>\n",
       "      <th>1</th>\n",
       "      <td>1949-02</td>\n",
       "      <td>118</td>\n",
       "    </tr>\n",
       "    <tr>\n",
       "      <th>2</th>\n",
       "      <td>1949-03</td>\n",
       "      <td>132</td>\n",
       "    </tr>\n",
       "    <tr>\n",
       "      <th>3</th>\n",
       "      <td>1949-04</td>\n",
       "      <td>129</td>\n",
       "    </tr>\n",
       "    <tr>\n",
       "      <th>4</th>\n",
       "      <td>1949-05</td>\n",
       "      <td>121</td>\n",
       "    </tr>\n",
       "  </tbody>\n",
       "</table>\n",
       "</div>"
      ],
      "text/plain": [
       "     Month  Passengers\n",
       "0  1949-01         112\n",
       "1  1949-02         118\n",
       "2  1949-03         132\n",
       "3  1949-04         129\n",
       "4  1949-05         121"
      ]
     },
     "execution_count": 2,
     "metadata": {},
     "output_type": "execute_result"
    }
   ],
   "source": [
    "data = pandas.read_csv('airline-passengers.csv')\n",
    "data.head()"
   ]
  },
  {
   "cell_type": "code",
   "execution_count": 3,
   "id": "parliamentary-opportunity",
   "metadata": {},
   "outputs": [
    {
     "data": {
      "image/png": "[encoded data removed]",
      "text/plain": [
       "<Figure size 432x288 with 1 Axes>"
      ]
     },
     "metadata": {
      "needs_background": "light"
     },
     "output_type": "display_data"
    }
   ],
   "source": [
    "df = pandas.read_csv('airline-passengers.csv', usecols=[1]) #we will skip the column of the year/month which is column[0]\n",
    "plt.plot(df)\n",
    "plt.show()"
   ]
  },
  {
   "cell_type": "markdown",
   "id": "ranking-assignment",
   "metadata": {},
   "source": [
    "One good technique is to always plot some or all of your data. That way you will get a rough idea of your data, trending and periodically behavior.\n",
    "\n",
    "In this first example we will keep our data as they are. A good technique is always do a data preparation rescaling your data and make them stationary. We wiil see these techniques in later examples."
   ]
  },
  {
   "cell_type": "markdown",
   "id": "stock-dimension",
   "metadata": {},
   "source": [
    "# Long Short-Term Memory Network"
   ]
  },
  {
   "cell_type": "markdown",
   "id": "expensive-aside",
   "metadata": {},
   "source": [
    "Instead of neurons, LSTM networks have memory blocks that are connected through layers\n",
    "\n",
    " - A block has components that make it smarter than a classical neuron and a memory for recent sequences. \n",
    "\n",
    " - A block contains gates that manage the block’s state and output. \n",
    " \n",
    " - A block operates upon an input sequence and each gate within a block uses the sigmoid activation units to control whether they are triggered or not, making the change of state and addition of information flowing through the block conditional.\n",
    "\n",
    "There are three types of gates within a unit:\n",
    "\n",
    " - Forget Gate: conditionally decides what information to throw away from the block.\n",
    " \n",
    " - Input Gate: conditionally decides which values from the input to update the memory state.\n",
    " \n",
    " - Output Gate: conditionally decides what to output based on input and the memory of the block.\n",
    " \n",
    "Each unit is like a mini-state machine where the gates of the units have weights that are learned during the training procedure.\n",
    "\n",
    "You can see how you may achieve sophisticated learning and memory from a layer of LSTMs, and it is not hard to imagine how higher-order abstractions may be layered with multiple such layers."
   ]
  },
  {
   "cell_type": "markdown",
   "id": "biological-justice",
   "metadata": {},
   "source": [
    "# # LSTM Network for Regression using Window Method"
   ]
  },
  {
   "cell_type": "markdown",
   "id": "olive-facial",
   "metadata": {},
   "source": [
    "We can also phrase the problem so that multiple, recent time steps can be used to make the prediction for the next time step.\n",
    "\n",
    "This is called a window, and the size of the window is a parameter that can be tuned for each problem.\n",
    "\n",
    "For example, given the current time (t) we want to predict the value at the next time in the sequence (t+1), we can use the current time (t), as well as the two prior times (t-1 and t-2) as input variables.\n",
    "\n",
    "When phrased as a regression problem, the input variables are t-2, t-1, t and the output variable is t+1.\n",
    "\n",
    "The create_dataset() function we created in the previous section allows us to create this formulation of the time series problem by increasing the look_back argument from 1 to 3.\n",
    "\n",
    "A sample of the dataset with this formulation looks as follows:"
   ]
  },
  {
   "cell_type": "markdown",
   "id": "cloudy-excitement",
   "metadata": {},
   "source": [
    "X1\tX2\tX3\tY\n",
    "112\t118\t132\t129\n",
    "118\t132\t129\t121\n",
    "132\t129\t121\t135\n",
    "129\t121\t135\t148\n",
    "121\t135\t148\t148"
   ]
  },
  {
   "cell_type": "code",
   "execution_count": 4,
   "id": "potential-parcel",
   "metadata": {},
   "outputs": [],
   "source": [
    "#Import all the required modules, classes and functions\n",
    "import numpy\n",
    "import matplotlib.pyplot as plt\n",
    "import pandas\n",
    "import math\n",
    "from keras.models import Sequential\n",
    "from keras.layers import Dense\n",
    "from keras.layers import LSTM\n",
    "from sklearn.preprocessing import MinMaxScaler\n",
    "from sklearn.metrics import mean_squared_error"
   ]
  },
  {
   "cell_type": "code",
   "execution_count": 5,
   "id": "popular-excess",
   "metadata": {},
   "outputs": [],
   "source": [
    "# fix random seed for reproducibility (https://machinelearningmastery.com/reproducible-results-neural-networks-keras/)\n",
    "numpy.random.seed(7)"
   ]
  },
  {
   "cell_type": "code",
   "execution_count": 6,
   "id": "expensive-fountain",
   "metadata": {},
   "outputs": [],
   "source": [
    "dataset = df.values #get values as nparrays\n",
    "dataset = dataset.astype(\"float32\") #convert values to floating points which are better for modelling"
   ]
  },
  {
   "cell_type": "markdown",
   "id": "distant-coating",
   "metadata": {},
   "source": [
    "LSTMs are sensitive to the scale of input data due to the reason that sigmoid or tanh activation function are used.\n",
    "\n",
    "A good technique is to rescale the data between 0 and 1, a procedure known as normalizing.\n",
    "\n",
    "'scikit-learn' library can help us with the preprocessing class called MinMaxScaler."
   ]
  },
  {
   "cell_type": "code",
   "execution_count": 7,
   "id": "temporal-bailey",
   "metadata": {},
   "outputs": [],
   "source": [
    "#normalize the data\n",
    "\n",
    "scaler = MinMaxScaler(feature_range=(0,1))\n",
    "dataset = scaler.fit_transform(dataset)"
   ]
  },
  {
   "cell_type": "markdown",
   "id": "dominican-enhancement",
   "metadata": {},
   "source": [
    " A simple method that we can use is to split the ordered dataset into train and test datasets.\n",
    " That way we can train our model with the train data and then test the model using the unseen test data."
   ]
  },
  {
   "cell_type": "code",
   "execution_count": 8,
   "id": "earlier-birmingham",
   "metadata": {},
   "outputs": [
    {
     "name": "stdout",
     "output_type": "stream",
     "text": [
      "96 48\n"
     ]
    }
   ],
   "source": [
    "# split into train and test sets\n",
    "train_size = int(len(dataset) * 0.67)\n",
    "test_size = len(dataset) - train_size\n",
    "train, test = dataset[0:train_size,:], dataset[train_size:len(dataset),:] #slicing out data\n",
    "print(len(train), len(test))"
   ]
  },
  {
   "cell_type": "markdown",
   "id": "recent-african",
   "metadata": {},
   "source": [
    "Let's make a function where we insert a numpy array and the number of previous time steps to use as input variables to predict the next time period.\n",
    "We will use a default of 1 hour meaning that our X is the number of passengers at a given time (t) and Y the passengers at the next time (t+1)."
   ]
  },
  {
   "cell_type": "code",
   "execution_count": 9,
   "id": "hazardous-england",
   "metadata": {},
   "outputs": [],
   "source": [
    "def create_dataset(dataset,look_back=1): #we can set look_back as we want (here is 1 hour)\n",
    "    dataX , dataY = [], [] #create 2 empty lists\n",
    "    for i in range(len(dataset)-look_back-1): #set the range of the loop, keep in mind what happends with the last item of a range and that we don't want the last item of x since is the prediction Y. \n",
    "        a = dataset[i:(i + look_back), 0] #dataset range for choosing one value of the first column[0] in a list\n",
    "        dataX.append(a)\n",
    "        dataY.append(dataset[i + look_back, 0]) #dataset range for choosing one hour later value\n",
    "    return numpy.array(dataX), numpy.array(dataY)"
   ]
  },
  {
   "cell_type": "markdown",
   "id": "typical-helicopter",
   "metadata": {},
   "source": [
    "Imagine this:\n",
    "X=t\t\tY=t+1\n",
    "112\t\t118\n",
    "118\t\t132\n",
    "132\t\t129\n",
    "129\t\t121\n",
    "121\t\t135"
   ]
  },
  {
   "cell_type": "code",
   "execution_count": 10,
   "id": "senior-yukon",
   "metadata": {},
   "outputs": [],
   "source": [
    "#Lets use our function\n",
    "look_back = 3\n",
    "trainX, trainY =create_dataset(train, look_back)\n",
    "testX, testY = create_dataset(test, look_back)"
   ]
  },
  {
   "cell_type": "markdown",
   "id": "imposed-percentage",
   "metadata": {},
   "source": [
    "Up to now our data are in the form of samples(total values) and features(value for each observation) and we need to insert timesteps in order to be [samples,time steps,features]"
   ]
  },
  {
   "cell_type": "code",
   "execution_count": 11,
   "id": "surprised-protein",
   "metadata": {},
   "outputs": [],
   "source": [
    "trainX = numpy.reshape(trainX, (trainX.shape[0], 1, trainX.shape[1]))\n",
    "testX= numpy.reshape(testX, (testX.shape[0], 1, testX.shape[1]))"
   ]
  },
  {
   "cell_type": "code",
   "execution_count": 12,
   "id": "piano-course",
   "metadata": {},
   "outputs": [
    {
     "name": "stdout",
     "output_type": "stream",
     "text": [
      "Epoch 1/100\n",
      "92/92 - 1s - loss: 0.0372\n",
      "Epoch 2/100\n",
      "92/92 - 0s - loss: 0.0145\n",
      "Epoch 3/100\n",
      "92/92 - 0s - loss: 0.0110\n",
      "Epoch 4/100\n",
      "92/92 - 0s - loss: 0.0096\n",
      "Epoch 5/100\n",
      "92/92 - 0s - loss: 0.0087\n",
      "Epoch 6/100\n",
      "92/92 - 0s - loss: 0.0076\n",
      "Epoch 7/100\n",
      "92/92 - 0s - loss: 0.0068\n",
      "Epoch 8/100\n",
      "92/92 - 0s - loss: 0.0063\n",
      "Epoch 9/100\n",
      "92/92 - 0s - loss: 0.0058\n",
      "Epoch 10/100\n",
      "92/92 - 0s - loss: 0.0055\n",
      "Epoch 11/100\n",
      "92/92 - 0s - loss: 0.0053\n",
      "Epoch 12/100\n",
      "92/92 - 0s - loss: 0.0050\n",
      "Epoch 13/100\n",
      "92/92 - 0s - loss: 0.0050\n",
      "Epoch 14/100\n",
      "92/92 - 0s - loss: 0.0047\n",
      "Epoch 15/100\n",
      "92/92 - 0s - loss: 0.0047\n",
      "Epoch 16/100\n",
      "92/92 - 0s - loss: 0.0046\n",
      "Epoch 17/100\n",
      "92/92 - 0s - loss: 0.0047\n",
      "Epoch 18/100\n",
      "92/92 - 0s - loss: 0.0045\n",
      "Epoch 19/100\n",
      "92/92 - 0s - loss: 0.0046\n",
      "Epoch 20/100\n",
      "92/92 - 0s - loss: 0.0044\n",
      "Epoch 21/100\n",
      "92/92 - 0s - loss: 0.0044\n",
      "Epoch 22/100\n",
      "92/92 - 0s - loss: 0.0042\n",
      "Epoch 23/100\n",
      "92/92 - 0s - loss: 0.0043\n",
      "Epoch 24/100\n",
      "92/92 - 0s - loss: 0.0041\n",
      "Epoch 25/100\n",
      "92/92 - 0s - loss: 0.0042\n",
      "Epoch 26/100\n",
      "92/92 - 0s - loss: 0.0040\n",
      "Epoch 27/100\n",
      "92/92 - 0s - loss: 0.0040\n",
      "Epoch 28/100\n",
      "92/92 - 0s - loss: 0.0041\n",
      "Epoch 29/100\n",
      "92/92 - 0s - loss: 0.0039\n",
      "Epoch 30/100\n",
      "92/92 - 0s - loss: 0.0039\n",
      "Epoch 31/100\n",
      "92/92 - 0s - loss: 0.0037\n",
      "Epoch 32/100\n",
      "92/92 - 0s - loss: 0.0038\n",
      "Epoch 33/100\n",
      "92/92 - 0s - loss: 0.0038\n",
      "Epoch 34/100\n",
      "92/92 - 0s - loss: 0.0038\n",
      "Epoch 35/100\n",
      "92/92 - 0s - loss: 0.0036\n",
      "Epoch 36/100\n",
      "92/92 - 0s - loss: 0.0036\n",
      "Epoch 37/100\n",
      "92/92 - 0s - loss: 0.0035\n",
      "Epoch 38/100\n",
      "92/92 - 0s - loss: 0.0035\n",
      "Epoch 39/100\n",
      "92/92 - 0s - loss: 0.0036\n",
      "Epoch 40/100\n",
      "92/92 - 0s - loss: 0.0036\n",
      "Epoch 41/100\n",
      "92/92 - 0s - loss: 0.0035\n",
      "Epoch 42/100\n",
      "92/92 - 0s - loss: 0.0034\n",
      "Epoch 43/100\n",
      "92/92 - 0s - loss: 0.0035\n",
      "Epoch 44/100\n",
      "92/92 - 0s - loss: 0.0034\n",
      "Epoch 45/100\n",
      "92/92 - 0s - loss: 0.0033\n",
      "Epoch 46/100\n",
      "92/92 - 0s - loss: 0.0033\n",
      "Epoch 47/100\n",
      "92/92 - 0s - loss: 0.0033\n",
      "Epoch 48/100\n",
      "92/92 - 0s - loss: 0.0032\n",
      "Epoch 49/100\n",
      "92/92 - 0s - loss: 0.0032\n",
      "Epoch 50/100\n",
      "92/92 - 0s - loss: 0.0031\n",
      "Epoch 51/100\n",
      "92/92 - 0s - loss: 0.0031\n",
      "Epoch 52/100\n",
      "92/92 - 0s - loss: 0.0031\n",
      "Epoch 53/100\n",
      "92/92 - 0s - loss: 0.0031\n",
      "Epoch 54/100\n",
      "92/92 - 0s - loss: 0.0030\n",
      "Epoch 55/100\n",
      "92/92 - 0s - loss: 0.0031\n",
      "Epoch 56/100\n",
      "92/92 - 0s - loss: 0.0030\n",
      "Epoch 57/100\n",
      "92/92 - 0s - loss: 0.0030\n",
      "Epoch 58/100\n",
      "92/92 - 0s - loss: 0.0030\n",
      "Epoch 59/100\n",
      "92/92 - 0s - loss: 0.0030\n",
      "Epoch 60/100\n",
      "92/92 - 0s - loss: 0.0028\n",
      "Epoch 61/100\n",
      "92/92 - 0s - loss: 0.0029\n",
      "Epoch 62/100\n",
      "92/92 - 0s - loss: 0.0028\n",
      "Epoch 63/100\n",
      "92/92 - 0s - loss: 0.0029\n",
      "Epoch 64/100\n",
      "92/92 - 0s - loss: 0.0028\n",
      "Epoch 65/100\n",
      "92/92 - 0s - loss: 0.0028\n",
      "Epoch 66/100\n",
      "92/92 - 0s - loss: 0.0027\n",
      "Epoch 67/100\n",
      "92/92 - 0s - loss: 0.0027\n",
      "Epoch 68/100\n",
      "92/92 - 0s - loss: 0.0027\n",
      "Epoch 69/100\n",
      "92/92 - 0s - loss: 0.0027\n",
      "Epoch 70/100\n",
      "92/92 - 0s - loss: 0.0026\n",
      "Epoch 71/100\n",
      "92/92 - 0s - loss: 0.0026\n",
      "Epoch 72/100\n",
      "92/92 - 0s - loss: 0.0026\n",
      "Epoch 73/100\n",
      "92/92 - 0s - loss: 0.0025\n",
      "Epoch 74/100\n",
      "92/92 - 0s - loss: 0.0026\n",
      "Epoch 75/100\n",
      "92/92 - 0s - loss: 0.0025\n",
      "Epoch 76/100\n",
      "92/92 - 0s - loss: 0.0026\n",
      "Epoch 77/100\n",
      "92/92 - 0s - loss: 0.0025\n",
      "Epoch 78/100\n",
      "92/92 - 0s - loss: 0.0024\n",
      "Epoch 79/100\n",
      "92/92 - 0s - loss: 0.0024\n",
      "Epoch 80/100\n",
      "92/92 - 0s - loss: 0.0024\n",
      "Epoch 81/100\n",
      "92/92 - 0s - loss: 0.0025\n",
      "Epoch 82/100\n",
      "92/92 - 0s - loss: 0.0024\n",
      "Epoch 83/100\n",
      "92/92 - 0s - loss: 0.0025\n",
      "Epoch 84/100\n",
      "92/92 - 0s - loss: 0.0023\n",
      "Epoch 85/100\n",
      "92/92 - 0s - loss: 0.0023\n",
      "Epoch 86/100\n",
      "92/92 - 0s - loss: 0.0024\n",
      "Epoch 87/100\n",
      "92/92 - 0s - loss: 0.0022\n",
      "Epoch 88/100\n",
      "92/92 - 0s - loss: 0.0024\n",
      "Epoch 89/100\n",
      "92/92 - 0s - loss: 0.0022\n",
      "Epoch 90/100\n",
      "92/92 - 0s - loss: 0.0022\n",
      "Epoch 91/100\n",
      "92/92 - 0s - loss: 0.0023\n",
      "Epoch 92/100\n",
      "92/92 - 0s - loss: 0.0022\n",
      "Epoch 93/100\n",
      "92/92 - 0s - loss: 0.0022\n",
      "Epoch 94/100\n",
      "92/92 - 0s - loss: 0.0021\n",
      "Epoch 95/100\n",
      "92/92 - 0s - loss: 0.0022\n",
      "Epoch 96/100\n",
      "92/92 - 0s - loss: 0.0022\n",
      "Epoch 97/100\n",
      "92/92 - 0s - loss: 0.0022\n",
      "Epoch 98/100\n",
      "92/92 - 0s - loss: 0.0022\n",
      "Epoch 99/100\n",
      "92/92 - 0s - loss: 0.0021\n",
      "Epoch 100/100\n",
      "92/92 - 0s - loss: 0.0020\n"
     ]
    },
    {
     "data": {
      "text/plain": [
       "<keras.callbacks.History at 0x7f04ac1b31c0>"
      ]
     },
     "execution_count": 12,
     "metadata": {},
     "output_type": "execute_result"
    }
   ],
   "source": [
    "# create and fit the LSTM network\n",
    "model = Sequential()\n",
    "model.add(LSTM(4, input_shape=(1, look_back))) #1 input and 4 hidden layers or neurons\n",
    "model.add(Dense(1)) #single output\n",
    "model.compile(loss='mean_squared_error', optimizer='adam')\n",
    "model.fit(trainX, trainY, epochs=100, batch_size=1, verbose=2)"
   ]
  },
  {
   "cell_type": "code",
   "execution_count": 13,
   "id": "special-pursuit",
   "metadata": {},
   "outputs": [],
   "source": [
    "# make predictions\n",
    "trainPredict = model.predict(trainX)\n",
    "testPredict = model.predict(testX)"
   ]
  },
  {
   "cell_type": "code",
   "execution_count": 14,
   "id": "billion-aquarium",
   "metadata": {},
   "outputs": [],
   "source": [
    "# invert predictions so the values become as the original\n",
    "trainPredict = scaler.inverse_transform(trainPredict)\n",
    "trainY = scaler.inverse_transform([trainY])\n",
    "testPredict = scaler.inverse_transform(testPredict)\n",
    "testY = scaler.inverse_transform([testY])"
   ]
  },
  {
   "cell_type": "code",
   "execution_count": 15,
   "id": "legitimate-baghdad",
   "metadata": {},
   "outputs": [
    {
     "name": "stdout",
     "output_type": "stream",
     "text": [
      "Train Score: 23.71 RMSE\n",
      "Test Score: 62.09 RMSE\n"
     ]
    }
   ],
   "source": [
    "# calculate root mean squared error\n",
    "trainScore = math.sqrt(mean_squared_error(trainY[0], trainPredict[:,0]))\n",
    "print('Train Score: %.2f RMSE' % (trainScore))\n",
    "testScore = math.sqrt(mean_squared_error(testY[0], testPredict[:,0]))\n",
    "print('Test Score: %.2f RMSE' % (testScore))\n"
   ]
  },
  {
   "cell_type": "code",
   "execution_count": 16,
   "id": "subsequent-conspiracy",
   "metadata": {},
   "outputs": [],
   "source": [
    "# shift train predictions for plotting\n",
    "trainPredictPlot = numpy.empty_like(dataset)\n",
    "trainPredictPlot[:, :] = numpy.nan\n",
    "trainPredictPlot[look_back:len(trainPredict)+look_back, :] = trainPredict"
   ]
  },
  {
   "cell_type": "code",
   "execution_count": 23,
   "id": "innocent-cooking",
   "metadata": {},
   "outputs": [],
   "source": [
    "# shift test predictions for plotting\n",
    "testPredictPlot = numpy.empty_like(dataset)\n",
    "testPredictPlot[:, :] = numpy.nan\n",
    "testPredictPlot[len(trainPredict)+(look_back*2)+1:len(dataset)-1, :] = testPredict"
   ]
  },
  {
   "cell_type": "code",
   "execution_count": 24,
   "id": "economic-toddler",
   "metadata": {},
   "outputs": [
    {
     "data": {
      "image/png": "[encoded data removed]",
      "text/plain": [
       "<Figure size 432x288 with 1 Axes>"
      ]
     },
     "metadata": {
      "needs_background": "light"
     },
     "output_type": "display_data"
    }
   ],
   "source": [
    "# plot baseline and predictions\n",
    "plt.plot(scaler.inverse_transform(dataset))\n",
    "plt.plot(trainPredictPlot)\n",
    "plt.plot(testPredictPlot)\n",
    "plt.show()"
   ]
  }
 ],
 "metadata": {
  "kernelspec": {
   "display_name": "Python 3",
   "language": "python",
   "name": "python3"
  },
  "language_info": {
   "codemirror_mode": {
    "name": "ipython",
    "version": 3
   },
   "file_extension": ".py",
   "mimetype": "text/x-python",
   "name": "python",
   "nbconvert_exporter": "python",
   "pygments_lexer": "ipython3",
   "version": "3.9.5"
  }
 },
 "nbformat": 4,
 "nbformat_minor": 5
}
